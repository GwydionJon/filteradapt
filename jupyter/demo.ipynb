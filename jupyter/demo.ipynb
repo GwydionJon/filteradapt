{
 "cells": [
  {
   "cell_type": "markdown",
   "metadata": {},
   "source": [
    "# Demo of the Adaptive Ground Point Filtering Library"
   ]
  },
  {
   "cell_type": "markdown",
   "metadata": {},
   "source": [
    "This notebook gives a tour of the capabilities of `filteradapt`. It is continuously updated while we develop the library. You can execute the code in each cell by pressing `Ctrl+Enter`. To start your own project based on `filteradapt`, you can either edit this notebook or start a new one."
   ]
  },
  {
   "cell_type": "markdown",
   "metadata": {},
   "source": [
    "The first thing to do in a Jupyter notebook that uses `filteradapt` is to import the library:"
   ]
  },
  {
   "cell_type": "code",
   "execution_count": null,
   "metadata": {
    "slideshow": {
     "slide_type": "slide"
    },
    "tags": []
   },
   "outputs": [],
   "source": [
    "%load_ext lab_black"
   ]
  },
  {
   "cell_type": "code",
   "execution_count": null,
   "metadata": {},
   "outputs": [],
   "source": [
    "import filteradapt\n",
    "import pdal"
   ]
  },
  {
   "cell_type": "markdown",
   "metadata": {},
   "source": [
    "The next step you will typically do is to construct a dataset object by reading a LAS/LAZ file:"
   ]
  },
  {
   "cell_type": "code",
   "execution_count": null,
   "metadata": {
    "tags": []
   },
   "outputs": [],
   "source": [
    "ds = filteradapt.DataSet(\"data/500k_NZ20_Westport.laz\")\n",
    "ds.show()"
   ]
  },
  {
   "cell_type": "markdown",
   "metadata": {},
   "source": [
    "The data set can be visualized in the notebook through its `show()` method:"
   ]
  },
  {
   "cell_type": "code",
   "execution_count": null,
   "metadata": {},
   "outputs": [],
   "source": [
    "from filteradapt.paths import locate_file\n",
    "import json\n",
    "\n",
    "filename = locate_file(\"data/500k_NZ20_Westport.laz\")\n",
    "\n",
    "\n",
    "def setup_csf(filename):\n",
    "    print(filename)\n",
    "    my_json = {\n",
    "        \"pipeline\": [\n",
    "            filename,\n",
    "            {\"type\": \"filters.csf\"},\n",
    "            {\"type\": \"filters.range\", \"limits\": \"Classification[2:2]\"},\n",
    "        ]\n",
    "    }\n",
    "    return json.dumps(my_json)\n",
    "\n",
    "\n",
    "def setup_nothing(filename):\n",
    "    print(filename)\n",
    "    my_json = {\"pipeline\": [filename]}\n",
    "    return json.dumps(my_json)"
   ]
  },
  {
   "cell_type": "code",
   "execution_count": null,
   "metadata": {},
   "outputs": [],
   "source": [
    "test = setup_nothing(filename)\n",
    "pipeline = pdal.Pipeline(test)\n",
    "pipeline.validate()\n",
    "%time n_points = pipeline.execute()\n",
    "print(\"Pipeline selected {} points \".format(n_points))"
   ]
  },
  {
   "cell_type": "code",
   "execution_count": null,
   "metadata": {},
   "outputs": [],
   "source": [
    "test2 = setup_csf(filename)\n",
    "pipeline2 = pdal.Pipeline(test2)\n",
    "pipeline2.validate()\n",
    "%time n_points = pipeline2.execute()\n",
    "print(\"Pipeline selected {} points \".format(n_points))"
   ]
  },
  {
   "cell_type": "code",
   "execution_count": null,
   "metadata": {},
   "outputs": [],
   "source": [
    "import pandas as pd\n",
    "\n",
    "# Load Pipeline output in python objects\n",
    "arr = pipeline2.arrays[0]\n",
    "description = arr.dtype.descr\n",
    "cols = [col for col, __ in description]\n",
    "df = pd.DataFrame({col: arr[col] for col in cols})\n",
    "df[\"X_0\"] = df[\"X\"]\n",
    "df[\"Y_0\"] = df[\"Y\"]\n",
    "df[\"Z_0\"] = df[\"Z\"]\n",
    "df[\"X\"] = df[\"X\"] - df[\"X_0\"].min()\n",
    "df[\"Y\"] = df[\"Y\"] - df[\"Y_0\"].min()\n",
    "df[\"Z\"] = df[\"Z\"] - df[\"Z_0\"].min()"
   ]
  },
  {
   "cell_type": "code",
   "execution_count": null,
   "metadata": {},
   "outputs": [],
   "source": [
    "import ipyvolume.pylab as p3\n",
    "\n",
    "fig = p3.figure(width=1000)\n",
    "fig.xlabel = \"Y\"\n",
    "fig.ylabel = \"Z\"\n",
    "fig.zlabel = \"X\"\n",
    "all_points = p3.scatter(df[\"Y\"], df[\"Z\"], df[\"X\"], color=\"red\", size=0.05)\n",
    "p3.squarelim()\n",
    "p3.show()"
   ]
  },
  {
   "cell_type": "code",
   "execution_count": null,
   "metadata": {},
   "outputs": [],
   "source": [
    "print(len(df))\n",
    "df.head()"
   ]
  },
  {
   "cell_type": "code",
   "execution_count": null,
   "metadata": {},
   "outputs": [],
   "source": []
  }
 ],
 "metadata": {
  "interpreter": {
   "hash": "b23a54a307c68e72ca2a23e7951a8039dbbb834772c78cac9c7ee54b21666c94"
  },
  "kernelspec": {
   "display_name": "Python 3",
   "language": "python",
   "name": "python3"
  },
  "language_info": {
   "codemirror_mode": {
    "name": "ipython",
    "version": 3
   },
   "file_extension": ".py",
   "mimetype": "text/x-python",
   "name": "python",
   "nbconvert_exporter": "python",
   "pygments_lexer": "ipython3",
   "version": "3.9.4"
  }
 },
 "nbformat": 4,
 "nbformat_minor": 4
}
